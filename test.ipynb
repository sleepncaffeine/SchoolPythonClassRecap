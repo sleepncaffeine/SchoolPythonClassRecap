{
  "nbformat": 4,
  "nbformat_minor": 0,
  "metadata": {
    "colab": {
      "provenance": [],
      "authorship_tag": "ABX9TyPjJvJMC3U/CiFDPnY1OvjZ",
      "include_colab_link": true
    },
    "kernelspec": {
      "name": "python3",
      "display_name": "Python 3"
    },
    "language_info": {
      "name": "python"
    }
  },
  "cells": [
    {
      "cell_type": "markdown",
      "metadata": {
        "id": "view-in-github",
        "colab_type": "text"
      },
      "source": [
        "<a href=\"https://colab.research.google.com/github/sleepncaffeine/SchoolPythonClassRecap/blob/main/test.ipynb\" target=\"_parent\"><img src=\"https://colab.research.google.com/assets/colab-badge.svg\" alt=\"Open In Colab\"/></a>"
      ]
    },
    {
      "cell_type": "markdown",
      "source": [
        "#출력"
      ],
      "metadata": {
        "id": "BchV0AcKxnGz"
      }
    },
    {
      "cell_type": "markdown",
      "source": [
        "`print('문자열')`을 이용하면 문자열을 출력한 후 줄바꿈을 한다."
      ],
      "metadata": {
        "id": "X883-ZfnxvGb"
      }
    },
    {
      "cell_type": "code",
      "execution_count": 1,
      "metadata": {
        "colab": {
          "base_uri": "https://localhost:8080/"
        },
        "id": "Fl6JKMpYwWqo",
        "outputId": "4fac725a-309c-46ec-da32-44403df0aee5"
      },
      "outputs": [
        {
          "output_type": "stream",
          "name": "stdout",
          "text": [
            "Hello, world!\n"
          ]
        }
      ],
      "source": [
        "print(\"Hello, world!\")"
      ]
    }
  ]
}